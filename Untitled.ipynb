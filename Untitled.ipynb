{
 "cells": [
  {
   "cell_type": "code",
   "execution_count": 2,
   "id": "9a5dd403-2089-49b3-9833-bb0dc3f5db3d",
   "metadata": {},
   "outputs": [],
   "source": [
    "import pandas as pd "
   ]
  },
  {
   "cell_type": "code",
   "execution_count": 3,
   "id": "dd91c37b-5b08-4399-b0dc-70a5e0123799",
   "metadata": {},
   "outputs": [],
   "source": [
    "folder=\"ml-32m\""
   ]
  },
  {
   "cell_type": "code",
   "execution_count": 18,
   "id": "d543163c-5879-492d-967a-0ef9e6532ae5",
   "metadata": {},
   "outputs": [],
   "source": [
    "movies_df=pd.read_csv(folder+\"/movies.csv\")\n",
    "ratings_df=pd.read_csv(folder+\"/ratings.csv\")\n",
    "tags_df=pd.read_csv(folder+\"/tags.csv\")"
   ]
  },
  {
   "cell_type": "code",
   "execution_count": 19,
   "id": "2a86d5f8-8ae0-4d21-9d94-3de52565891d",
   "metadata": {},
   "outputs": [
    {
     "name": "stdout",
     "output_type": "stream",
     "text": [
      "       movieId                                              title  \\\n",
      "15884    83773              Away with Words (San tiao ren) (1999)   \n",
      "16063    84768                                  Glitterbug (1994)   \n",
      "16354    86493    Age of the Earth, The (A Idade da Terra) (1980)   \n",
      "16494    87061                            Trails (Veredas) (1978)   \n",
      "17409    91246                           Milky Way (Tejút) (2007)   \n",
      "...        ...                                                ...   \n",
      "87527   292241  The Smashing Pumpkins: Graceful Swans of Never...   \n",
      "87544   292395  Lewis & Clark: The Journey of the Corps of Dis...   \n",
      "87551   292477                          Secrets of the Sea (2022)   \n",
      "87557   292535                The Giants of Easter Islands (2023)   \n",
      "87576   292625                               Flaming Cloud (2023)   \n",
      "\n",
      "                   genres  \n",
      "15884  (no genres listed)  \n",
      "16063  (no genres listed)  \n",
      "16354  (no genres listed)  \n",
      "16494  (no genres listed)  \n",
      "17409  (no genres listed)  \n",
      "...                   ...  \n",
      "87527  (no genres listed)  \n",
      "87544  (no genres listed)  \n",
      "87551  (no genres listed)  \n",
      "87557  (no genres listed)  \n",
      "87576  (no genres listed)  \n",
      "\n",
      "[7080 rows x 3 columns]\n"
     ]
    }
   ],
   "source": [
    "print(movies_df[movies_df[\"genres\"]==\"(no genres listed)\"])"
   ]
  },
  {
   "cell_type": "code",
   "execution_count": 20,
   "id": "f76369d0-e0a8-4f13-a815-fdf104b26581",
   "metadata": {},
   "outputs": [],
   "source": [
    "movies_df=movies_df[movies_df[\"genres\"]!=\"(no genres listed)\"]"
   ]
  },
  {
   "cell_type": "code",
   "execution_count": 21,
   "id": "56fcdc79-6886-40bd-8bb9-3099b736297e",
   "metadata": {},
   "outputs": [],
   "source": [
    "tags_df=tags_df[~tags_df[\"tag\"].astype(str).str.isnumeric()]"
   ]
  },
  {
   "cell_type": "code",
   "execution_count": 22,
   "id": "57d87111-4524-49c4-b8bf-1e078a33a053",
   "metadata": {},
   "outputs": [
    {
     "name": "stdout",
     "output_type": "stream",
     "text": [
      "         userId  movieId             tag   timestamp\n",
      "0            22    26479     Kevin Kline  1583038886\n",
      "1            22    79592        misogyny  1581476297\n",
      "2            22   247150      acrophobia  1622483469\n",
      "3            34     2174           music  1249808064\n",
      "4            34     2174           weird  1249808102\n",
      "...         ...      ...             ...         ...\n",
      "2000067  162279    90645      Rafe Spall  1320817734\n",
      "2000068  162279    91079   Anton Yelchin  1322337407\n",
      "2000069  162279    91079  Felicity Jones  1322337400\n",
      "2000070  162279    91658     Rooney Mara  1325828398\n",
      "2000071  162279   100714     Julie Delpy  1373095449\n",
      "\n",
      "[1999148 rows x 4 columns]\n"
     ]
    }
   ],
   "source": [
    "print(tags_df)"
   ]
  },
  {
   "cell_type": "code",
   "execution_count": null,
   "id": "9d6fd2dc-60b0-47fe-b92f-cafe39b0e6a2",
   "metadata": {},
   "outputs": [],
   "source": []
  }
 ],
 "metadata": {
  "kernelspec": {
   "display_name": "Python 3 (ipykernel)",
   "language": "python",
   "name": "python3"
  },
  "language_info": {
   "codemirror_mode": {
    "name": "ipython",
    "version": 3
   },
   "file_extension": ".py",
   "mimetype": "text/x-python",
   "name": "python",
   "nbconvert_exporter": "python",
   "pygments_lexer": "ipython3",
   "version": "3.9.6"
  }
 },
 "nbformat": 4,
 "nbformat_minor": 5
}
